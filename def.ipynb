def volume_tabung(r, t):
    return 3.14 * r * r * t

import modul1

result = modul1.volume_tabung(3, 9)
print(result)
