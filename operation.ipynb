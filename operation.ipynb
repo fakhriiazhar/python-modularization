import aritmatika as operasi

print("penjumlahan: ", operasi.penjumlahan(6, 2))
print("pengurangan: ", operasi.pengurangan(6, 2))
print("perkalian: ", operasi.perkalian(6, 2))
print("pembagian habis: ", operasi.bagihabis(6, 2))
print("modulus: ", operasi.modulus(6, 2))
