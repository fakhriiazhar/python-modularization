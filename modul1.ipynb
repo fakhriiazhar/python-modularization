import modul1

for c in dir (modul1):
    print(c)
